{
 "cells": [
  {
   "cell_type": "code",
   "execution_count": 1,
   "metadata": {},
   "outputs": [
    {
     "name": "stdout",
     "output_type": "stream",
     "text": [
      "hello\n"
     ]
    }
   ],
   "source": [
    "print(\"hello\")"
   ]
  },
  {
   "cell_type": "code",
   "execution_count": null,
   "metadata": {},
   "outputs": [],
   "source": [
    "from sklearn.feature_extraction.text import ENGLISH_STOP_WORDS\n",
    "\n",
    "def is_relevant(prompt, keywords):\n",
    "    \"\"\"\n",
    "    Check if the prompt is relevant to the given keywords.\n",
    "\n",
    "    Parameters:\n",
    "    prompt (str): The input prompt to check.\n",
    "    keywords (list): A list of keywords to check relevance against.\n",
    "\n",
    "    Returns:\n",
    "    bool: True if the prompt is relevant, False otherwise.\n",
    "    \"\"\"\n",
    "    return any(keyword.lower() in prompt.lower() for keyword in keywords)\n",
    "\n",
    "# Test the function\n",
    "prompt = \"Please write the test code to perform the relevance compute prompt for the code.\"\n",
    "keywords = [\"test\", \"code\", \"relevance\", \"compute\"]\n",
    "\n",
    "# Remove stop words from the prompt\n",
    "filtered_prompt = ' '.join([word for word in prompt.split() if word.lower() not in ENGLISH_STOP_WORDS])\n",
    "\n",
    "# Compute relevance score without stop words\n",
    "print(is_relevant(filtered_prompt, keywords))  # Expected output: True\n",
    "\n",
    "def relevance_score(prompt, keywords):\n",
    "    \"\"\"\n",
    "    Compute the relevance score of the prompt based on the given keywords.\n",
    "\n",
    "    Parameters:\n",
    "    prompt (str): The input prompt to check.\n",
    "    keywords (list): A list of keywords to check relevance against.\n",
    "\n",
    "    Returns:\n",
    "    int: The relevance score based on the number of keywords found in the prompt.\n",
    "    \"\"\"\n",
    "    return sum(keyword.lower() in prompt.lower() for keyword in keywords)\n",
    "\n",
    "# Test the function\n",
    "print(relevance_score(filtered_prompt, keywords))  # Expected output: 4"
   ]
  },
  {
   "cell_type": "code",
   "execution_count": 2,
   "metadata": {},
   "outputs": [
    {
     "name": "stdout",
     "output_type": "stream",
     "text": [
      "True\n"
     ]
    }
   ],
   "source": [
    "def is_relevant(prompt, keywords):\n",
    "    \"\"\"\n",
    "    Check if the prompt is relevant to the given keywords.\n",
    "\n",
    "    Parameters:\n",
    "    prompt (str): The input prompt to check.\n",
    "    keywords (list): A list of keywords to check relevance against.\n",
    "\n",
    "    Returns:\n",
    "    bool: True if the prompt is relevant, False otherwise.\n",
    "    \"\"\"\n",
    "    return any(keyword.lower() in prompt.lower() for keyword in keywords)\n",
    "\n",
    "# Test the function\n",
    "prompt = \"Please write the test code to perform the relevance compute prompt for the code.\"\n",
    "keywords = [\"test\", \"code\", \"relevance\", \"compute\"]\n",
    "\n",
    "print(is_relevant(prompt, keywords))  # Expected output: True"
   ]
  },
  {
   "cell_type": "code",
   "execution_count": 3,
   "metadata": {},
   "outputs": [
    {
     "name": "stdout",
     "output_type": "stream",
     "text": [
      "4\n"
     ]
    }
   ],
   "source": [
    "def relevance_score(prompt, keywords):\n",
    "    \"\"\"\n",
    "    Compute the relevance score of the prompt based on the given keywords.\n",
    "\n",
    "    Parameters:\n",
    "    prompt (str): The input prompt to check.\n",
    "    keywords (list): A list of keywords to check relevance against.\n",
    "\n",
    "    Returns:\n",
    "    int: The relevance score based on the number of keywords found in the prompt.\n",
    "    \"\"\"\n",
    "    return sum(keyword.lower() in prompt.lower() for keyword in keywords)\n",
    "\n",
    "# Test the function\n",
    "print(relevance_score(prompt, keywords))  # Expected output: 4"
   ]
  }
 ],
 "metadata": {
  "kernelspec": {
   "display_name": "Python 3",
   "language": "python",
   "name": "python3"
  },
  "language_info": {
   "codemirror_mode": {
    "name": "ipython",
    "version": 3
   },
   "file_extension": ".py",
   "mimetype": "text/x-python",
   "name": "python",
   "nbconvert_exporter": "python",
   "pygments_lexer": "ipython3",
   "version": "3.13.0"
  }
 },
 "nbformat": 4,
 "nbformat_minor": 2
}
